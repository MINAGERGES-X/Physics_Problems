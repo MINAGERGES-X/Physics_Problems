{
 "cells": [
  {
   "cell_type": "code",
   "execution_count": 3,
   "id": "1cc5f7b0",
   "metadata": {},
   "outputs": [
    {
     "name": "stdout",
     "output_type": "stream",
     "text": [
      "Eigenvalues (Principal Moments of Inertia):\n",
      "[[ 3.  0.  0.]\n",
      " [ 0.  3.  0.]\n",
      " [ 0.  0. -3.]]\n",
      "\n",
      "Eigenvectors (Principal Axes of Rotation):\n",
      "[[1. 0. 0.]\n",
      " [0. 1. 0.]\n",
      " [0. 0. 1.]]\n"
     ]
    }
   ],
   "source": [
    "import numpy as np\n",
    "\n",
    "inertia_tens = np.array([[3 , 2, 0],\n",
    "                           [1, 3, 0],\n",
    "                           [0, 2 , -3]])\n",
    "\n",
    "eigenvals, eigenvects = np.linalg.eig(inertia_tens)\n",
    "\n",
    "princp_momts = np.diag(eigenvals)\n",
    "\n",
    "princp_axes = eigenvects\n",
    "\n",
    "print(\"Eigenvalues (Principal Moments of Inertia):\")\n",
    "print(princp_momts)\n",
    "print(\"\\nEigenvectors (Principal Axes of Rotation):\")\n",
    "print(princp_axes)\n"
   ]
  }
 ],
 "metadata": {
  "kernelspec": {
   "display_name": "Python 3 (ipykernel)",
   "language": "python",
   "name": "python3"
  },
  "language_info": {
   "codemirror_mode": {
    "name": "ipython",
    "version": 3
   },
   "file_extension": ".py",
   "mimetype": "text/x-python",
   "name": "python",
   "nbconvert_exporter": "python",
   "pygments_lexer": "ipython3",
   "version": "3.11.3"
  }
 },
 "nbformat": 4,
 "nbformat_minor": 5
}
